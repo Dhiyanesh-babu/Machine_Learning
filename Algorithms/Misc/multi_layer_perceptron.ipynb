{
  "nbformat": 4,
  "nbformat_minor": 0,
  "metadata": {
    "colab": {
      "name": "multi layer perceptron.ipynb",
      "provenance": [],
      "collapsed_sections": []
    },
    "kernelspec": {
      "name": "python3",
      "display_name": "Python 3"
    },
    "language_info": {
      "name": "python"
    }
  },
  "cells": [
    {
      "cell_type": "markdown",
      "metadata": {
        "id": "JS4mCoXkdbAq"
      },
      "source": [
        "Dhiyanesh Babu C V\n",
        "19MID0125\n",
        "Iris dataset - It\n",
        "\n",
        "---\n",
        "\n"
      ]
    },
    {
      "cell_type": "code",
      "metadata": {
        "colab": {
          "base_uri": "https://localhost:8080/"
        },
        "id": "xNF_43lEjyok",
        "outputId": "5954a49c-b769-4474-db44-68445b3e771e"
      },
      "source": [
        "print('Name:- Dhiyanesh Babu C V \\nReg no:- 19MID0125\\nDataset:- iris dataset\\n\\nHere we have implenented Multilayer perceptron classification\\n The dependent variable [ SPECIES ] is found using 4 independent variables such as [ Sepallength, sepalwidth, petallength, petalwidth ]\\n')"
      ],
      "execution_count": null,
      "outputs": [
        {
          "output_type": "stream",
          "name": "stdout",
          "text": [
            "Name:- Dhiyanesh Babu C V \n",
            "Reg no:- 19MID0125\n",
            "Dataset:- iris dataset\n",
            "\n",
            "Here we have implenented Multilayer perceptron classification\n",
            " The dependent variable [ SPECIES ] is found using 4 independent variables such as [ Sepallength, sepalwidth, petallength, petalwidth ]\n",
            "\n"
          ]
        }
      ]
    },
    {
      "cell_type": "code",
      "metadata": {
        "id": "unmNNVSv3SA5"
      },
      "source": [
        "# importing the necessary libraries\n",
        "\n",
        "import pandas as pd\n",
        "from sklearn.metrics import accuracy_score\n",
        "from sklearn.metrics import f1_score\n",
        "from sklearn.metrics import confusion_matrix"
      ],
      "execution_count": null,
      "outputs": []
    },
    {
      "cell_type": "code",
      "metadata": {
        "id": "9_9RJvBT4Ndb"
      },
      "source": [
        "# Loading the Dataset\n",
        "\n",
        "df=pd.read_csv('IRIS.csv')"
      ],
      "execution_count": null,
      "outputs": []
    },
    {
      "cell_type": "code",
      "metadata": {
        "colab": {
          "base_uri": "https://localhost:8080/",
          "height": 206
        },
        "id": "hnXOkDCb4fqr",
        "outputId": "0b6bad29-be1b-43c0-a2e5-11e87e298d70"
      },
      "source": [
        "df.head()"
      ],
      "execution_count": null,
      "outputs": [
        {
          "output_type": "execute_result",
          "data": {
            "text/html": [
              "<div>\n",
              "<style scoped>\n",
              "    .dataframe tbody tr th:only-of-type {\n",
              "        vertical-align: middle;\n",
              "    }\n",
              "\n",
              "    .dataframe tbody tr th {\n",
              "        vertical-align: top;\n",
              "    }\n",
              "\n",
              "    .dataframe thead th {\n",
              "        text-align: right;\n",
              "    }\n",
              "</style>\n",
              "<table border=\"1\" class=\"dataframe\">\n",
              "  <thead>\n",
              "    <tr style=\"text-align: right;\">\n",
              "      <th></th>\n",
              "      <th>sepal_length</th>\n",
              "      <th>sepal_width</th>\n",
              "      <th>petal_length</th>\n",
              "      <th>petal_width</th>\n",
              "      <th>species</th>\n",
              "    </tr>\n",
              "  </thead>\n",
              "  <tbody>\n",
              "    <tr>\n",
              "      <th>0</th>\n",
              "      <td>5.1</td>\n",
              "      <td>3.5</td>\n",
              "      <td>1.4</td>\n",
              "      <td>0.2</td>\n",
              "      <td>Iris-setosa</td>\n",
              "    </tr>\n",
              "    <tr>\n",
              "      <th>1</th>\n",
              "      <td>4.9</td>\n",
              "      <td>3.0</td>\n",
              "      <td>1.4</td>\n",
              "      <td>0.2</td>\n",
              "      <td>Iris-setosa</td>\n",
              "    </tr>\n",
              "    <tr>\n",
              "      <th>2</th>\n",
              "      <td>4.7</td>\n",
              "      <td>3.2</td>\n",
              "      <td>1.3</td>\n",
              "      <td>0.2</td>\n",
              "      <td>Iris-setosa</td>\n",
              "    </tr>\n",
              "    <tr>\n",
              "      <th>3</th>\n",
              "      <td>4.6</td>\n",
              "      <td>3.1</td>\n",
              "      <td>1.5</td>\n",
              "      <td>0.2</td>\n",
              "      <td>Iris-setosa</td>\n",
              "    </tr>\n",
              "    <tr>\n",
              "      <th>4</th>\n",
              "      <td>5.0</td>\n",
              "      <td>3.6</td>\n",
              "      <td>1.4</td>\n",
              "      <td>0.2</td>\n",
              "      <td>Iris-setosa</td>\n",
              "    </tr>\n",
              "  </tbody>\n",
              "</table>\n",
              "</div>"
            ],
            "text/plain": [
              "   sepal_length  sepal_width  petal_length  petal_width      species\n",
              "0           5.1          3.5           1.4          0.2  Iris-setosa\n",
              "1           4.9          3.0           1.4          0.2  Iris-setosa\n",
              "2           4.7          3.2           1.3          0.2  Iris-setosa\n",
              "3           4.6          3.1           1.5          0.2  Iris-setosa\n",
              "4           5.0          3.6           1.4          0.2  Iris-setosa"
            ]
          },
          "metadata": {},
          "execution_count": 14
        }
      ]
    },
    {
      "cell_type": "code",
      "metadata": {
        "colab": {
          "base_uri": "https://localhost:8080/"
        },
        "id": "4fIAcVty4vMy",
        "outputId": "1d97ef59-c3d2-4928-f72c-852babd42f0c"
      },
      "source": [
        "# Splitting the sependent and independent columns\n",
        "\n",
        "x=df.drop(columns='species')\n",
        "y=df['species']\n",
        "print(x)\n",
        "print(y)"
      ],
      "execution_count": null,
      "outputs": [
        {
          "output_type": "stream",
          "name": "stdout",
          "text": [
            "     sepal_length  sepal_width  petal_length  petal_width\n",
            "0             5.1          3.5           1.4          0.2\n",
            "1             4.9          3.0           1.4          0.2\n",
            "2             4.7          3.2           1.3          0.2\n",
            "3             4.6          3.1           1.5          0.2\n",
            "4             5.0          3.6           1.4          0.2\n",
            "..            ...          ...           ...          ...\n",
            "145           6.7          3.0           5.2          2.3\n",
            "146           6.3          2.5           5.0          1.9\n",
            "147           6.5          3.0           5.2          2.0\n",
            "148           6.2          3.4           5.4          2.3\n",
            "149           5.9          3.0           5.1          1.8\n",
            "\n",
            "[150 rows x 4 columns]\n",
            "0         Iris-setosa\n",
            "1         Iris-setosa\n",
            "2         Iris-setosa\n",
            "3         Iris-setosa\n",
            "4         Iris-setosa\n",
            "            ...      \n",
            "145    Iris-virginica\n",
            "146    Iris-virginica\n",
            "147    Iris-virginica\n",
            "148    Iris-virginica\n",
            "149    Iris-virginica\n",
            "Name: species, Length: 150, dtype: object\n"
          ]
        }
      ]
    },
    {
      "cell_type": "code",
      "metadata": {
        "id": "S7iYf5s85Dy-"
      },
      "source": [
        "# Splitting the dataset as test and train\n",
        "\n",
        "from sklearn.model_selection import train_test_split\n",
        "x_train,x_test,y_train,y_test = train_test_split(x,y,test_size=0.4,random_state=42)"
      ],
      "execution_count": null,
      "outputs": []
    },
    {
      "cell_type": "code",
      "metadata": {
        "id": "qoRejLFK6Bii",
        "colab": {
          "base_uri": "https://localhost:8080/"
        },
        "outputId": "308d96bc-59d8-46fb-bffa-5ac5500662ad"
      },
      "source": [
        "# Trainining the Model\n",
        "\n",
        "from sklearn.neural_network import MLPClassifier\n",
        "mlp=MLPClassifier(hidden_layer_sizes=(9,12,10,15),learning_rate_init=0.01,verbose=True,random_state=42,activation='relu',solver='adam')\n",
        "mlp.fit(x_train,y_train)"
      ],
      "execution_count": null,
      "outputs": [
        {
          "output_type": "stream",
          "name": "stdout",
          "text": [
            "Iteration 1, loss = 1.14447911\n",
            "Iteration 2, loss = 1.05470893\n",
            "Iteration 3, loss = 0.99958369\n",
            "Iteration 4, loss = 0.93475010\n",
            "Iteration 5, loss = 0.89778461\n",
            "Iteration 6, loss = 0.86909681\n",
            "Iteration 7, loss = 0.82020144\n",
            "Iteration 8, loss = 0.76007958\n",
            "Iteration 9, loss = 0.70169627\n",
            "Iteration 10, loss = 0.65314497\n",
            "Iteration 11, loss = 0.60396215\n",
            "Iteration 12, loss = 0.55286575\n",
            "Iteration 13, loss = 0.50574466\n",
            "Iteration 14, loss = 0.46643497\n",
            "Iteration 15, loss = 0.43416882\n",
            "Iteration 16, loss = 0.40732235\n",
            "Iteration 17, loss = 0.38312916\n",
            "Iteration 18, loss = 0.36047499\n",
            "Iteration 19, loss = 0.33711673\n",
            "Iteration 20, loss = 0.31566716\n",
            "Iteration 21, loss = 0.29787117\n",
            "Iteration 22, loss = 0.28049116\n",
            "Iteration 23, loss = 0.26357499\n",
            "Iteration 24, loss = 0.24715569\n",
            "Iteration 25, loss = 0.22967782\n",
            "Iteration 26, loss = 0.21447476\n",
            "Iteration 27, loss = 0.19944288\n",
            "Iteration 28, loss = 0.18612572\n",
            "Iteration 29, loss = 0.17362433\n",
            "Iteration 30, loss = 0.16213628\n",
            "Iteration 31, loss = 0.15163165\n",
            "Iteration 32, loss = 0.14161479\n",
            "Iteration 33, loss = 0.13235590\n",
            "Iteration 34, loss = 0.12372745\n",
            "Iteration 35, loss = 0.11562343\n",
            "Iteration 36, loss = 0.10876965\n",
            "Iteration 37, loss = 0.10205448\n",
            "Iteration 38, loss = 0.09645236\n",
            "Iteration 39, loss = 0.09153991\n",
            "Iteration 40, loss = 0.08664835\n",
            "Iteration 41, loss = 0.08249027\n",
            "Iteration 42, loss = 0.07931112\n",
            "Iteration 43, loss = 0.07671540\n",
            "Iteration 44, loss = 0.07399200\n",
            "Iteration 45, loss = 0.07135723\n",
            "Iteration 46, loss = 0.06937991\n",
            "Iteration 47, loss = 0.06787587\n",
            "Iteration 48, loss = 0.06679677\n",
            "Iteration 49, loss = 0.06619940\n",
            "Iteration 50, loss = 0.06611198\n",
            "Iteration 51, loss = 0.06429259\n",
            "Iteration 52, loss = 0.06203764\n",
            "Iteration 53, loss = 0.06079589\n",
            "Iteration 54, loss = 0.06089623\n",
            "Iteration 55, loss = 0.06137761\n",
            "Iteration 56, loss = 0.06062546\n",
            "Iteration 57, loss = 0.05926903\n",
            "Iteration 58, loss = 0.05779028\n",
            "Iteration 59, loss = 0.05758787\n",
            "Iteration 60, loss = 0.05816080\n",
            "Iteration 61, loss = 0.05807240\n",
            "Iteration 62, loss = 0.05725939\n",
            "Iteration 63, loss = 0.05601395\n",
            "Iteration 64, loss = 0.05544936\n",
            "Iteration 65, loss = 0.05563358\n",
            "Iteration 66, loss = 0.05606173\n",
            "Iteration 67, loss = 0.05639098\n",
            "Iteration 68, loss = 0.05531985\n",
            "Iteration 69, loss = 0.05434359\n",
            "Iteration 70, loss = 0.05371592\n",
            "Iteration 71, loss = 0.05378467\n",
            "Iteration 72, loss = 0.05428254\n",
            "Iteration 73, loss = 0.05468275\n",
            "Iteration 74, loss = 0.05504918\n",
            "Iteration 75, loss = 0.05371786\n",
            "Iteration 76, loss = 0.05252395\n",
            "Iteration 77, loss = 0.05267102\n",
            "Iteration 78, loss = 0.05330313\n",
            "Iteration 79, loss = 0.05323477\n",
            "Iteration 80, loss = 0.05209638\n",
            "Iteration 81, loss = 0.05131240\n",
            "Iteration 82, loss = 0.05139401\n",
            "Iteration 83, loss = 0.05201869\n",
            "Iteration 84, loss = 0.05240992\n",
            "Iteration 85, loss = 0.05237679\n",
            "Iteration 86, loss = 0.05250507\n",
            "Iteration 87, loss = 0.05117019\n",
            "Iteration 88, loss = 0.05031369\n",
            "Iteration 89, loss = 0.04986881\n",
            "Iteration 90, loss = 0.04957171\n",
            "Iteration 91, loss = 0.04934824\n",
            "Iteration 92, loss = 0.04918108\n",
            "Iteration 93, loss = 0.04919193\n",
            "Iteration 94, loss = 0.04953562\n",
            "Iteration 95, loss = 0.05110400\n",
            "Iteration 96, loss = 0.05276758\n",
            "Iteration 97, loss = 0.05648854\n",
            "Iteration 98, loss = 0.05268315\n",
            "Iteration 99, loss = 0.04974733\n",
            "Iteration 100, loss = 0.04791864\n",
            "Iteration 101, loss = 0.04984948\n",
            "Iteration 102, loss = 0.05234997\n",
            "Iteration 103, loss = 0.04921473\n",
            "Iteration 104, loss = 0.04738880\n",
            "Iteration 105, loss = 0.04921785\n",
            "Iteration 106, loss = 0.05006817\n",
            "Iteration 107, loss = 0.04974783\n",
            "Iteration 108, loss = 0.04693459\n",
            "Iteration 109, loss = 0.04684443\n",
            "Iteration 110, loss = 0.04876975\n",
            "Iteration 111, loss = 0.04833201\n",
            "Iteration 112, loss = 0.04761651\n",
            "Iteration 113, loss = 0.04596331\n",
            "Iteration 114, loss = 0.04559577\n",
            "Iteration 115, loss = 0.04578553\n",
            "Iteration 116, loss = 0.04613481\n",
            "Iteration 117, loss = 0.04682595\n",
            "Iteration 118, loss = 0.04753782\n",
            "Iteration 119, loss = 0.04838809\n",
            "Iteration 120, loss = 0.04654744\n",
            "Iteration 121, loss = 0.04533665\n",
            "Iteration 122, loss = 0.04475495\n",
            "Iteration 123, loss = 0.04446471\n",
            "Iteration 124, loss = 0.04422969\n",
            "Iteration 125, loss = 0.04424867\n",
            "Iteration 126, loss = 0.04479126\n",
            "Iteration 127, loss = 0.04655886\n",
            "Iteration 128, loss = 0.04687051\n",
            "Iteration 129, loss = 0.04843740\n",
            "Iteration 130, loss = 0.04606614\n",
            "Iteration 131, loss = 0.04518752\n",
            "Iteration 132, loss = 0.04333880\n",
            "Iteration 133, loss = 0.04332584\n",
            "Iteration 134, loss = 0.04458757\n",
            "Iteration 135, loss = 0.04459652\n",
            "Iteration 136, loss = 0.04619386\n",
            "Iteration 137, loss = 0.04494987\n",
            "Iteration 138, loss = 0.04522350\n",
            "Iteration 139, loss = 0.04324687\n",
            "Iteration 140, loss = 0.04299787\n",
            "Iteration 141, loss = 0.04232225\n",
            "Iteration 142, loss = 0.04172344\n",
            "Iteration 143, loss = 0.04148489\n",
            "Iteration 144, loss = 0.04188765\n",
            "Iteration 145, loss = 0.04423530\n",
            "Iteration 146, loss = 0.04875609\n",
            "Iteration 147, loss = 0.05814595\n",
            "Iteration 148, loss = 0.05134424\n",
            "Iteration 149, loss = 0.04529330\n",
            "Iteration 150, loss = 0.04091068\n",
            "Iteration 151, loss = 0.04176556\n",
            "Iteration 152, loss = 0.04591504\n",
            "Iteration 153, loss = 0.04718594\n",
            "Iteration 154, loss = 0.04622241\n",
            "Iteration 155, loss = 0.04140414\n",
            "Iteration 156, loss = 0.04000968\n",
            "Iteration 157, loss = 0.04251559\n",
            "Iteration 158, loss = 0.04480476\n",
            "Iteration 159, loss = 0.04595818\n",
            "Iteration 160, loss = 0.04041978\n",
            "Iteration 161, loss = 0.03975279\n",
            "Iteration 162, loss = 0.04111676\n",
            "Iteration 163, loss = 0.04109834\n",
            "Iteration 164, loss = 0.04174407\n",
            "Iteration 165, loss = 0.03962793\n",
            "Iteration 166, loss = 0.03954213\n",
            "Iteration 167, loss = 0.04088413\n",
            "Iteration 168, loss = 0.04079092\n",
            "Iteration 169, loss = 0.04142587\n",
            "Iteration 170, loss = 0.03992859\n",
            "Iteration 171, loss = 0.03933155\n",
            "Iteration 172, loss = 0.03854539\n",
            "Iteration 173, loss = 0.03836287\n",
            "Iteration 174, loss = 0.03834464\n",
            "Iteration 175, loss = 0.03873581\n",
            "Iteration 176, loss = 0.03951717\n",
            "Iteration 177, loss = 0.04155356\n",
            "Iteration 178, loss = 0.04319979\n",
            "Iteration 179, loss = 0.04676606\n",
            "Iteration 180, loss = 0.04421832\n",
            "Iteration 181, loss = 0.04260829\n",
            "Iteration 182, loss = 0.03866827\n",
            "Iteration 183, loss = 0.03719035\n",
            "Iteration 184, loss = 0.03708993\n",
            "Iteration 185, loss = 0.03803469\n",
            "Iteration 186, loss = 0.04066319\n",
            "Iteration 187, loss = 0.04175959\n",
            "Iteration 188, loss = 0.04397908\n",
            "Iteration 189, loss = 0.04101631\n",
            "Iteration 190, loss = 0.03941894\n",
            "Iteration 191, loss = 0.03692484\n",
            "Iteration 192, loss = 0.03632095\n",
            "Iteration 193, loss = 0.03680380\n",
            "Iteration 194, loss = 0.03747396\n",
            "Iteration 195, loss = 0.03940468\n",
            "Iteration 196, loss = 0.03976655\n",
            "Iteration 197, loss = 0.04142431\n",
            "Iteration 198, loss = 0.03965506\n",
            "Iteration 199, loss = 0.03925240\n",
            "Iteration 200, loss = 0.03707934\n"
          ]
        },
        {
          "output_type": "stream",
          "name": "stderr",
          "text": [
            "/usr/local/lib/python3.7/dist-packages/sklearn/neural_network/_multilayer_perceptron.py:696: ConvergenceWarning: Stochastic Optimizer: Maximum iterations (200) reached and the optimization hasn't converged yet.\n",
            "  ConvergenceWarning,\n"
          ]
        },
        {
          "output_type": "execute_result",
          "data": {
            "text/plain": [
              "MLPClassifier(hidden_layer_sizes=(9, 12, 10, 15), learning_rate_init=0.01,\n",
              "              random_state=42, verbose=True)"
            ]
          },
          "metadata": {},
          "execution_count": 18
        }
      ]
    },
    {
      "cell_type": "code",
      "metadata": {
        "colab": {
          "base_uri": "https://localhost:8080/"
        },
        "id": "s8iMKI8j9CGR",
        "outputId": "e0c5e09f-feba-471e-b981-4fede945ddc0"
      },
      "source": [
        "#predicting the model\n",
        "\n",
        "y_pred=mlp.predict(x_test)\n",
        "print(y_pred)"
      ],
      "execution_count": null,
      "outputs": [
        {
          "output_type": "stream",
          "name": "stdout",
          "text": [
            "['Iris-versicolor' 'Iris-setosa' 'Iris-virginica' 'Iris-versicolor'\n",
            " 'Iris-versicolor' 'Iris-setosa' 'Iris-versicolor' 'Iris-virginica'\n",
            " 'Iris-versicolor' 'Iris-versicolor' 'Iris-virginica' 'Iris-setosa'\n",
            " 'Iris-setosa' 'Iris-setosa' 'Iris-setosa' 'Iris-versicolor'\n",
            " 'Iris-virginica' 'Iris-versicolor' 'Iris-versicolor' 'Iris-virginica'\n",
            " 'Iris-setosa' 'Iris-virginica' 'Iris-setosa' 'Iris-virginica'\n",
            " 'Iris-virginica' 'Iris-virginica' 'Iris-virginica' 'Iris-virginica'\n",
            " 'Iris-setosa' 'Iris-setosa' 'Iris-setosa' 'Iris-setosa' 'Iris-versicolor'\n",
            " 'Iris-setosa' 'Iris-setosa' 'Iris-virginica' 'Iris-versicolor'\n",
            " 'Iris-setosa' 'Iris-setosa' 'Iris-setosa' 'Iris-virginica'\n",
            " 'Iris-versicolor' 'Iris-versicolor' 'Iris-setosa' 'Iris-setosa'\n",
            " 'Iris-versicolor' 'Iris-versicolor' 'Iris-virginica' 'Iris-versicolor'\n",
            " 'Iris-virginica' 'Iris-versicolor' 'Iris-virginica' 'Iris-versicolor'\n",
            " 'Iris-setosa' 'Iris-virginica' 'Iris-versicolor' 'Iris-setosa'\n",
            " 'Iris-setosa' 'Iris-setosa' 'Iris-versicolor']\n"
          ]
        }
      ]
    },
    {
      "cell_type": "code",
      "metadata": {
        "colab": {
          "base_uri": "https://localhost:8080/"
        },
        "id": "6TeAT3-t9QWK",
        "outputId": "a4553589-4595-4554-df69-445b95625306"
      },
      "source": [
        "# Accuracy\n",
        " \n",
        "y_con = confusion_matrix(y_test,y_pred)\n",
        "print('confusion matrix of is')\n",
        "print(y_con)\n",
        "print('\\n')\n",
        "y_accur = accuracy_score(y_test, y_pred)\n",
        "y_f1= f1_score(y_test, y_pred,average = 'weighted')\n",
        "\n",
        "print('F1 score of is')\n",
        "print(y_f1)\n",
        "\n",
        "from sklearn.metrics import classification_report\n",
        "print('Classification report is')\n",
        "a=classification_report(y_test, y_pred)\n",
        "print(a)"
      ],
      "execution_count": null,
      "outputs": [
        {
          "output_type": "stream",
          "name": "stdout",
          "text": [
            "confusion matrix of is\n",
            "[[23  0  0]\n",
            " [ 0 19  0]\n",
            " [ 0  1 17]]\n",
            "\n",
            "\n",
            "F1 score of is\n",
            "0.9833089133089132\n",
            "Classification report is\n",
            "                 precision    recall  f1-score   support\n",
            "\n",
            "    Iris-setosa       1.00      1.00      1.00        23\n",
            "Iris-versicolor       0.95      1.00      0.97        19\n",
            " Iris-virginica       1.00      0.94      0.97        18\n",
            "\n",
            "       accuracy                           0.98        60\n",
            "      macro avg       0.98      0.98      0.98        60\n",
            "   weighted avg       0.98      0.98      0.98        60\n",
            "\n"
          ]
        }
      ]
    }
  ]
}