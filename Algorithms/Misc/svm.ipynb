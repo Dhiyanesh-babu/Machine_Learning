{
 "cells": [
  {
   "cell_type": "code",
   "execution_count": null,
   "metadata": {
    "colab": {
     "base_uri": "https://localhost:8080/"
    },
    "id": "g6a4xfBDJvR7",
    "outputId": "a45ce9ad-e8dd-43cf-b781-8f3090aa78f4"
   },
   "outputs": [
    {
     "name": "stdout",
     "output_type": "stream",
     "text": [
      "Name:- Dhiyanesh Babu C V \n",
      "Reg no:- 19MID0125\n",
      "Dataset:- iris dataset\n",
      "\n",
      "Here we have implenented multiclass svm classification\n",
      " The dependent variable [ SPECIES ] is found using 4 independent variables such as [ Sepallength, sepalwidth, petallength, petalwidth ]\n",
      "isHere  we have used 5 types of kernels namely.\n",
      "1.)RBF\n",
      "2.)Poly\n",
      "3.)Linear\n",
      "4.)Sigmoid\n",
      "5.)precomputed\n",
      "\n"
     ]
    }
   ],
   "source": [
    "print( 'Name:- Dhiyanesh Babu C V \\nReg no:- 19MID0125\\nDataset:- iris dataset\\n\\nHere we have implenented multiclass svm classification\\n The dependent variable [ SPECIES ] is found using 4 independent variables such as [ Sepallength, sepalwidth, petallength, petalwidth ]\\nisHere  we have used 5 types of kernels namely.\\n1.)RBF\\n2.)Poly\\n3.)Linear\\n4.)Sigmoid\\n5.)precomputed\\n')\n",
    "\n",
    "\n",
    "\n",
    "\n"
   ]
  },
  {
   "cell_type": "code",
   "execution_count": null,
   "metadata": {
    "id": "mOcnalfh20fj"
   },
   "outputs": [],
   "source": [
    "# importing necessary modules\n",
    "\n",
    "from sklearn import svm\n",
    "import sklearn.model_selection as model_selection\n",
    "from sklearn.metrics import accuracy_score\n",
    "from sklearn.metrics import f1_score\n",
    "from sklearn.metrics import confusion_matrix\n",
    "import pandas as pd\n",
    "import numpy as np\n",
    "from sklearn.model_selection import train_test_split"
   ]
  },
  {
   "cell_type": "code",
   "execution_count": null,
   "metadata": {
    "id": "magyHkFU2-0o"
   },
   "outputs": [],
   "source": [
    "# Loading the dataset\n",
    "\n",
    "iris = pd.read_csv('IRIS.csv')"
   ]
  },
  {
   "cell_type": "code",
   "execution_count": null,
   "metadata": {
    "id": "BEfxH7q0Bmxn"
   },
   "outputs": [],
   "source": [
    "# Splitting the dataset into dependent and independent\n",
    "\n",
    "x = iris[['sepal_length','sepal_width','petal_length','petal_width']]\n",
    "y=iris[['species']]"
   ]
  },
  {
   "cell_type": "code",
   "execution_count": null,
   "metadata": {
    "id": "f6k86rtQC4DG"
   },
   "outputs": [],
   "source": [
    "# Splitting the dataset into traina nd test set\n",
    "\n",
    "X_train, X_test, Y_train, Y_test=train_test_split(x,y,test_size = 0.4, random_state=0)"
   ]
  },
  {
   "cell_type": "code",
   "execution_count": null,
   "metadata": {
    "colab": {
     "base_uri": "https://localhost:8080/"
    },
    "id": "f__ytmhkIx9L",
    "outputId": "ec610356-5960-4f61-bdb3-f04dc760a345"
   },
   "outputs": [
    {
     "name": "stdout",
     "output_type": "stream",
     "text": [
      "The available choices are linear, rbf, sigmoid, poly, precomputed \n",
      "rbf\n"
     ]
    }
   ],
   "source": [
    "# choice of kernel\n",
    "\n",
    "print('The available choices are linear, rbf, sigmoid, poly, precomputed ')\n",
    "choice = str(input())"
   ]
  },
  {
   "cell_type": "code",
   "execution_count": null,
   "metadata": {
    "colab": {
     "base_uri": "https://localhost:8080/"
    },
    "id": "oVi_W_akOf6_",
    "outputId": "6d6ab88c-2288-479f-9085-d49bcd80a562"
   },
   "outputs": [
    {
     "name": "stdout",
     "output_type": "stream",
     "text": [
      "confusion matrix of rbf kernel is\n",
      "[[16  0  0]\n",
      " [ 0 22  1]\n",
      " [ 0  3 18]]\n",
      "\n",
      "\n",
      "Accuracy of rbf kernel is\n",
      "0.9333333333333333\n",
      "\n",
      "\n",
      "F1 score of rbf kernel is\n",
      "0.9330555555555555\n"
     ]
    }
   ],
   "source": [
    "# Training the model with respect to the choice of kernel\n",
    "\n",
    "if choice == 'precomputed':\n",
    "  \n",
    "  classifier = svm.SVC(kernel = 'precomputed', random_state = 0)\n",
    "  kernel_train=np.dot(X_train,X_train.T)\n",
    "  kernel_test=np.dot(X_test,X_train.T)\n",
    "  classifier.fit(kernel_train, Y_train.values.ravel())\n",
    "  y_pred = classifier.predict(kernel_test)\n",
    "  linear_con = confusion_matrix(Y_test,y_pred)\n",
    "  print('Confusion matrix of precomputed kernel')\n",
    "  print(linear_con)\n",
    "  linear_accur = accuracy_score(Y_test, y_pred)\n",
    "  linear_f1= f1_score(Y_test, y_pred,average = 'weighted')\n",
    "  print('Accuracy of precomputed kernel')\n",
    "  print(linear_accur)\n",
    "  print('F1 score of precomputed kernel')\n",
    "  print(linear_f1)\n",
    "\n",
    "else:\n",
    "  linear=svm.SVC(kernel= choice ).fit(X_train,Y_train.values.ravel())\n",
    "  linear_pred = linear.predict(X_test)\n",
    "  linear_con = confusion_matrix(Y_test,linear_pred)\n",
    "  print('confusion matrix of '+ choice +' kernel is')\n",
    "  print(linear_con)\n",
    "  print('\\n')\n",
    "  linear_accur = accuracy_score(Y_test, linear_pred)\n",
    "  linear_f1= f1_score(Y_test, linear_pred,average = 'weighted')\n",
    "  print('Accuracy of '+ choice +' kernel is')\n",
    "  print(linear_accur)\n",
    "  print('\\n')\n",
    "  print('F1 score of '+ choice +' kernel is')\n",
    "  print(linear_f1)"
   ]
  }
 ],
 "metadata": {
  "colab": {
   "collapsed_sections": [],
   "name": "svm.ipynb",
   "provenance": []
  },
  "kernelspec": {
   "display_name": "Python 3",
   "language": "python",
   "name": "python3"
  },
  "language_info": {
   "codemirror_mode": {
    "name": "ipython",
    "version": 3
   },
   "file_extension": ".py",
   "mimetype": "text/x-python",
   "name": "python",
   "nbconvert_exporter": "python",
   "pygments_lexer": "ipython3",
   "version": "3.8.2"
  }
 },
 "nbformat": 4,
 "nbformat_minor": 1
}
