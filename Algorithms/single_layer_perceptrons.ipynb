{
 "cells": [
  {
   "cell_type": "markdown",
   "metadata": {
    "id": "YvF53gwnHAOr"
   },
   "source": [
    "# Single Layer Perceptron\n",
    "\n",
    "<!--### Introduction-->\n"
   ]
  },
  {
   "cell_type": "code",
   "execution_count": 1,
   "metadata": {
    "id": "2lCqTUNnHAO0"
   },
   "outputs": [],
   "source": [
    "import numpy as np\n",
    "import pandas as pd"
   ]
  },
  {
   "cell_type": "markdown",
   "metadata": {
    "id": "5qDgfEE1HAO4"
   },
   "source": [
    "#### Importing data as Pandas DataFrame\n",
    "\n",
    "iris-setosa: -1\n",
    "\n",
    "iris-versicolor: 0\n",
    "\n",
    "iris-virginica: 1"
   ]
  },
  {
   "cell_type": "code",
   "execution_count": 2,
   "metadata": {
    "colab": {
     "base_uri": "https://localhost:8080/",
     "height": 363
    },
    "id": "h6Aw7TfYHAO5",
    "outputId": "3994f209-b216-4280-a0ed-fcfc908df0e2"
   },
   "outputs": [
    {
     "data": {
      "text/html": [
       "<div>\n",
       "<style scoped>\n",
       "    .dataframe tbody tr th:only-of-type {\n",
       "        vertical-align: middle;\n",
       "    }\n",
       "\n",
       "    .dataframe tbody tr th {\n",
       "        vertical-align: top;\n",
       "    }\n",
       "\n",
       "    .dataframe thead th {\n",
       "        text-align: right;\n",
       "    }\n",
       "</style>\n",
       "<table border=\"1\" class=\"dataframe\">\n",
       "  <thead>\n",
       "    <tr style=\"text-align: right;\">\n",
       "      <th></th>\n",
       "      <th>sepal_length</th>\n",
       "      <th>sepal_width</th>\n",
       "      <th>petal_length</th>\n",
       "      <th>petal_width</th>\n",
       "      <th>species</th>\n",
       "    </tr>\n",
       "  </thead>\n",
       "  <tbody>\n",
       "    <tr>\n",
       "      <th>0</th>\n",
       "      <td>5.1</td>\n",
       "      <td>3.5</td>\n",
       "      <td>1.4</td>\n",
       "      <td>0.2</td>\n",
       "      <td>Iris-setosa</td>\n",
       "    </tr>\n",
       "    <tr>\n",
       "      <th>1</th>\n",
       "      <td>4.9</td>\n",
       "      <td>3.0</td>\n",
       "      <td>1.4</td>\n",
       "      <td>0.2</td>\n",
       "      <td>Iris-setosa</td>\n",
       "    </tr>\n",
       "    <tr>\n",
       "      <th>2</th>\n",
       "      <td>4.7</td>\n",
       "      <td>3.2</td>\n",
       "      <td>1.3</td>\n",
       "      <td>0.2</td>\n",
       "      <td>Iris-setosa</td>\n",
       "    </tr>\n",
       "    <tr>\n",
       "      <th>3</th>\n",
       "      <td>4.6</td>\n",
       "      <td>3.1</td>\n",
       "      <td>1.5</td>\n",
       "      <td>0.2</td>\n",
       "      <td>Iris-setosa</td>\n",
       "    </tr>\n",
       "    <tr>\n",
       "      <th>4</th>\n",
       "      <td>5.0</td>\n",
       "      <td>3.6</td>\n",
       "      <td>1.4</td>\n",
       "      <td>0.2</td>\n",
       "      <td>Iris-setosa</td>\n",
       "    </tr>\n",
       "    <tr>\n",
       "      <th>5</th>\n",
       "      <td>5.4</td>\n",
       "      <td>3.9</td>\n",
       "      <td>1.7</td>\n",
       "      <td>0.4</td>\n",
       "      <td>Iris-setosa</td>\n",
       "    </tr>\n",
       "    <tr>\n",
       "      <th>6</th>\n",
       "      <td>4.6</td>\n",
       "      <td>3.4</td>\n",
       "      <td>1.4</td>\n",
       "      <td>0.3</td>\n",
       "      <td>Iris-setosa</td>\n",
       "    </tr>\n",
       "    <tr>\n",
       "      <th>7</th>\n",
       "      <td>5.0</td>\n",
       "      <td>3.4</td>\n",
       "      <td>1.5</td>\n",
       "      <td>0.2</td>\n",
       "      <td>Iris-setosa</td>\n",
       "    </tr>\n",
       "    <tr>\n",
       "      <th>8</th>\n",
       "      <td>4.4</td>\n",
       "      <td>2.9</td>\n",
       "      <td>1.4</td>\n",
       "      <td>0.2</td>\n",
       "      <td>Iris-setosa</td>\n",
       "    </tr>\n",
       "    <tr>\n",
       "      <th>9</th>\n",
       "      <td>4.9</td>\n",
       "      <td>3.1</td>\n",
       "      <td>1.5</td>\n",
       "      <td>0.1</td>\n",
       "      <td>Iris-setosa</td>\n",
       "    </tr>\n",
       "  </tbody>\n",
       "</table>\n",
       "</div>"
      ],
      "text/plain": [
       "   sepal_length  sepal_width  petal_length  petal_width      species\n",
       "0           5.1          3.5           1.4          0.2  Iris-setosa\n",
       "1           4.9          3.0           1.4          0.2  Iris-setosa\n",
       "2           4.7          3.2           1.3          0.2  Iris-setosa\n",
       "3           4.6          3.1           1.5          0.2  Iris-setosa\n",
       "4           5.0          3.6           1.4          0.2  Iris-setosa\n",
       "5           5.4          3.9           1.7          0.4  Iris-setosa\n",
       "6           4.6          3.4           1.4          0.3  Iris-setosa\n",
       "7           5.0          3.4           1.5          0.2  Iris-setosa\n",
       "8           4.4          2.9           1.4          0.2  Iris-setosa\n",
       "9           4.9          3.1           1.5          0.1  Iris-setosa"
      ]
     },
     "execution_count": 2,
     "metadata": {},
     "output_type": "execute_result"
    }
   ],
   "source": [
    "data=pd.read_csv('IRIS.csv')\n",
    "\n",
    "data.head(10)"
   ]
  },
  {
   "cell_type": "code",
   "execution_count": 4,
   "metadata": {
    "colab": {
     "base_uri": "https://localhost:8080/",
     "height": 423
    },
    "id": "riT5I2bQDTTG",
    "outputId": "3d491471-2841-419d-c9ff-e6384d6114d0"
   },
   "outputs": [
    {
     "data": {
      "text/html": [
       "<div>\n",
       "<style scoped>\n",
       "    .dataframe tbody tr th:only-of-type {\n",
       "        vertical-align: middle;\n",
       "    }\n",
       "\n",
       "    .dataframe tbody tr th {\n",
       "        vertical-align: top;\n",
       "    }\n",
       "\n",
       "    .dataframe thead th {\n",
       "        text-align: right;\n",
       "    }\n",
       "</style>\n",
       "<table border=\"1\" class=\"dataframe\">\n",
       "  <thead>\n",
       "    <tr style=\"text-align: right;\">\n",
       "      <th></th>\n",
       "      <th>sepal_length</th>\n",
       "      <th>sepal_width</th>\n",
       "      <th>petal_length</th>\n",
       "      <th>petal_width</th>\n",
       "      <th>species</th>\n",
       "    </tr>\n",
       "  </thead>\n",
       "  <tbody>\n",
       "    <tr>\n",
       "      <th>0</th>\n",
       "      <td>5.1</td>\n",
       "      <td>3.5</td>\n",
       "      <td>1.4</td>\n",
       "      <td>0.2</td>\n",
       "      <td>0</td>\n",
       "    </tr>\n",
       "    <tr>\n",
       "      <th>1</th>\n",
       "      <td>4.9</td>\n",
       "      <td>3.0</td>\n",
       "      <td>1.4</td>\n",
       "      <td>0.2</td>\n",
       "      <td>0</td>\n",
       "    </tr>\n",
       "    <tr>\n",
       "      <th>2</th>\n",
       "      <td>4.7</td>\n",
       "      <td>3.2</td>\n",
       "      <td>1.3</td>\n",
       "      <td>0.2</td>\n",
       "      <td>0</td>\n",
       "    </tr>\n",
       "    <tr>\n",
       "      <th>3</th>\n",
       "      <td>4.6</td>\n",
       "      <td>3.1</td>\n",
       "      <td>1.5</td>\n",
       "      <td>0.2</td>\n",
       "      <td>0</td>\n",
       "    </tr>\n",
       "    <tr>\n",
       "      <th>4</th>\n",
       "      <td>5.0</td>\n",
       "      <td>3.6</td>\n",
       "      <td>1.4</td>\n",
       "      <td>0.2</td>\n",
       "      <td>0</td>\n",
       "    </tr>\n",
       "    <tr>\n",
       "      <th>...</th>\n",
       "      <td>...</td>\n",
       "      <td>...</td>\n",
       "      <td>...</td>\n",
       "      <td>...</td>\n",
       "      <td>...</td>\n",
       "    </tr>\n",
       "    <tr>\n",
       "      <th>145</th>\n",
       "      <td>6.7</td>\n",
       "      <td>3.0</td>\n",
       "      <td>5.2</td>\n",
       "      <td>2.3</td>\n",
       "      <td>2</td>\n",
       "    </tr>\n",
       "    <tr>\n",
       "      <th>146</th>\n",
       "      <td>6.3</td>\n",
       "      <td>2.5</td>\n",
       "      <td>5.0</td>\n",
       "      <td>1.9</td>\n",
       "      <td>2</td>\n",
       "    </tr>\n",
       "    <tr>\n",
       "      <th>147</th>\n",
       "      <td>6.5</td>\n",
       "      <td>3.0</td>\n",
       "      <td>5.2</td>\n",
       "      <td>2.0</td>\n",
       "      <td>2</td>\n",
       "    </tr>\n",
       "    <tr>\n",
       "      <th>148</th>\n",
       "      <td>6.2</td>\n",
       "      <td>3.4</td>\n",
       "      <td>5.4</td>\n",
       "      <td>2.3</td>\n",
       "      <td>2</td>\n",
       "    </tr>\n",
       "    <tr>\n",
       "      <th>149</th>\n",
       "      <td>5.9</td>\n",
       "      <td>3.0</td>\n",
       "      <td>5.1</td>\n",
       "      <td>1.8</td>\n",
       "      <td>2</td>\n",
       "    </tr>\n",
       "  </tbody>\n",
       "</table>\n",
       "<p>150 rows × 5 columns</p>\n",
       "</div>"
      ],
      "text/plain": [
       "     sepal_length  sepal_width  petal_length  petal_width  species\n",
       "0             5.1          3.5           1.4          0.2        0\n",
       "1             4.9          3.0           1.4          0.2        0\n",
       "2             4.7          3.2           1.3          0.2        0\n",
       "3             4.6          3.1           1.5          0.2        0\n",
       "4             5.0          3.6           1.4          0.2        0\n",
       "..            ...          ...           ...          ...      ...\n",
       "145           6.7          3.0           5.2          2.3        2\n",
       "146           6.3          2.5           5.0          1.9        2\n",
       "147           6.5          3.0           5.2          2.0        2\n",
       "148           6.2          3.4           5.4          2.3        2\n",
       "149           5.9          3.0           5.1          1.8        2\n",
       "\n",
       "[150 rows x 5 columns]"
      ]
     },
     "execution_count": 4,
     "metadata": {},
     "output_type": "execute_result"
    }
   ],
   "source": [
    "from sklearn.preprocessing import LabelEncoder\n",
    "le=LabelEncoder()\n",
    "data['species']=le.fit_transform(data.species)\n",
    "data"
   ]
  },
  {
   "cell_type": "markdown",
   "metadata": {
    "id": "_UnllluSHAO7"
   },
   "source": [
    "### Training\n",
    "\n",
    "- I am using Sigmoid function as the activation function"
   ]
  },
  {
   "cell_type": "code",
   "execution_count": 5,
   "metadata": {
    "id": "uDN3SHJVHAO8"
   },
   "outputs": [],
   "source": [
    "def activation_func(value):  \n",
    "    #return (1/(1+np.exp(-value)))\n",
    "    return ((np.exp(value)-np.exp(-value))/(np.exp(value)+np.exp(-value)))"
   ]
  },
  {
   "cell_type": "code",
   "execution_count": 7,
   "metadata": {
    "id": "GiX1XEDHHAO-"
   },
   "outputs": [],
   "source": [
    "def perceptron_train(in_data,labels,alpha):\n",
    "    X=np.array(in_data)\n",
    "    y=np.array(labels)\n",
    "    weights=np.random.random(X.shape[1])\n",
    "    original=weights\n",
    "    bias=np.random.random_sample()\n",
    "    for key in range(X.shape[0]):\n",
    "        a=activation_func(np.matmul(np.transpose(weights),X[key]))     \n",
    "        yn=0\n",
    "        if a>=0.7:\n",
    "            yn=1\n",
    "        elif a<=(-0.7):\n",
    "            yn=-1\n",
    "        weights=weights+alpha*(yn-y[key])*X[key]\n",
    "        print('Iteration '+str(key)+': '+str(weights))\n",
    "    print('Difference: '+str(weights-original))\n",
    "    return weights"
   ]
  },
  {
   "cell_type": "markdown",
   "metadata": {
    "id": "weL_KTRjHAPA"
   },
   "source": [
    "### Testing and Score"
   ]
  },
  {
   "cell_type": "code",
   "execution_count": 8,
   "metadata": {
    "id": "iEIHAGECHAPC"
   },
   "outputs": [],
   "source": [
    "def perceptron_test(in_data,label_shape,weights):\n",
    "    X=np.array(in_data)\n",
    "    y=np.zeros(label_shape)\n",
    "    for key in range(X.shape[1]):\n",
    "        a=activation_func((weights*X[key]).sum())\n",
    "        y[key]=0\n",
    "        if a>=0.7:\n",
    "            y[key]=1\n",
    "        elif a<=(-0.7):\n",
    "            y[key]=-1\n",
    "    return y"
   ]
  },
  {
   "cell_type": "code",
   "execution_count": 9,
   "metadata": {
    "id": "Ko2nOcm5HAPD"
   },
   "outputs": [],
   "source": [
    "def score(result,labels):\n",
    "    difference=result-np.array(labels)                                                        \n",
    "    correct_ctr=0\n",
    "    for elem in range(difference.shape[0]):\n",
    "        if difference[elem]==0:\n",
    "            correct_ctr+=1\n",
    "    score=correct_ctr*100/difference.size\n",
    "    print('Score='+str(score))"
   ]
  },
  {
   "cell_type": "markdown",
   "metadata": {
    "id": "Urbf-2xoHAPE"
   },
   "source": [
    "### Main code "
   ]
  },
  {
   "cell_type": "code",
   "execution_count": 10,
   "metadata": {
    "id": "XhHGncReHAPF"
   },
   "outputs": [],
   "source": [
    "# Dividing DataFrame \"data\" into \"d_train\" (60%) and \"d_test\" (40%)\n",
    "divider = np.random.rand(len(data)) < 0.70\n",
    "d_train=data[divider]\n",
    "d_test=data[~divider]"
   ]
  },
  {
   "cell_type": "code",
   "execution_count": 11,
   "metadata": {
    "id": "iNl7a9YbHAPG"
   },
   "outputs": [],
   "source": [
    "# Dividing d_train into data and labels/targets\n",
    "d_train_y=d_train['species']\n",
    "d_train_X=d_train.drop(['species'],axis=1)\n",
    "\n",
    "# Dividing d_train into data and labels/targets\n",
    "d_test_y=d_test['species']\n",
    "d_test_X=d_test.drop(['species'],axis=1)"
   ]
  },
  {
   "cell_type": "code",
   "execution_count": 12,
   "metadata": {
    "colab": {
     "base_uri": "https://localhost:8080/"
    },
    "id": "sUq9Jh8zHAPH",
    "outputId": "90808f14-ddf2-4814-b72b-524c329bb1c8"
   },
   "outputs": [
    {
     "name": "stdout",
     "output_type": "stream",
     "text": [
      "Iteration 0: [0.08767907 0.0463635  0.34107253 0.97283018]\n",
      "Iteration 1: [0.13667907 0.0763635  0.35507253 0.97483018]\n",
      "Iteration 2: [0.19067907 0.1153635  0.37207253 0.97883018]\n",
      "Iteration 3: [0.23667907 0.1493635  0.38607253 0.98183018]\n",
      "Iteration 4: [0.28667907 0.1833635  0.40107253 0.98383018]\n",
      "Iteration 5: [0.33067907 0.2123635  0.41507253 0.98583018]\n",
      "Iteration 6: [0.38467907 0.2493635  0.43007253 0.98783018]\n",
      "Iteration 7: [0.44267907 0.2893635  0.44207253 0.98983018]\n",
      "Iteration 8: [0.49967907 0.3333635  0.45707253 0.99383018]\n",
      "Iteration 9: [0.55067907 0.3683635  0.47107253 0.99683018]\n",
      "Iteration 10: [0.60167907 0.4053635  0.48607253 1.00083018]\n",
      "Iteration 11: [0.64767907 0.4413635  0.49607253 1.00283018]\n",
      "Iteration 12: [0.69567907 0.4753635  0.51507253 1.00483018]\n",
      "Iteration 13: [0.74567907 0.5053635  0.53107253 1.00683018]\n",
      "Iteration 14: [0.79767907 0.5403635  0.54607253 1.00883018]\n",
      "Iteration 15: [0.84467907 0.5723635  0.56207253 1.01083018]\n",
      "Iteration 16: [0.89267907 0.6033635  0.57807253 1.01283018]\n",
      "Iteration 17: [0.94467907 0.6443635  0.59307253 1.01383018]\n",
      "Iteration 18: [0.99367907 0.6753635  0.60807253 1.01483018]\n",
      "Iteration 19: [1.04367907 0.7073635  0.62007253 1.01683018]\n",
      "Iteration 20: [1.09867907 0.7423635  0.63307253 1.01883018]\n",
      "Iteration 21: [1.14767907 0.7733635  0.64807253 1.01983018]\n",
      "Iteration 22: [1.19167907 0.8033635  0.66107253 1.02183018]\n",
      "Iteration 23: [1.24267907 0.8373635  0.67607253 1.02383018]\n",
      "Iteration 24: [1.29267907 0.8723635  0.68907253 1.02683018]\n",
      "Iteration 25: [1.33767907 0.8953635  0.70207253 1.02983018]\n",
      "Iteration 26: [1.38167907 0.9273635  0.71507253 1.03183018]\n",
      "Iteration 27: [1.43167907 0.9623635  0.73107253 1.03783018]\n",
      "Iteration 28: [1.47967907 0.9923635  0.74507253 1.04083018]\n",
      "Iteration 29: [1.53067907 1.0303635  0.76107253 1.04283018]\n",
      "Iteration 30: [1.58367907 1.0673635  0.77607253 1.04483018]\n",
      "Iteration 31: [1.63367907 1.1003635  0.79007253 1.04683018]\n",
      "Iteration 32: [1.63367907 1.1003635  0.79007253 1.04683018]\n",
      "Iteration 33: [1.63367907 1.1003635  0.79007253 1.04683018]\n",
      "Iteration 34: [1.63367907 1.1003635  0.79007253 1.04683018]\n",
      "Iteration 35: [1.63367907 1.1003635  0.79007253 1.04683018]\n",
      "Iteration 36: [1.63367907 1.1003635  0.79007253 1.04683018]\n",
      "Iteration 37: [1.63367907 1.1003635  0.79007253 1.04683018]\n",
      "Iteration 38: [1.63367907 1.1003635  0.79007253 1.04683018]\n",
      "Iteration 39: [1.63367907 1.1003635  0.79007253 1.04683018]\n",
      "Iteration 40: [1.63367907 1.1003635  0.79007253 1.04683018]\n",
      "Iteration 41: [1.63367907 1.1003635  0.79007253 1.04683018]\n",
      "Iteration 42: [1.63367907 1.1003635  0.79007253 1.04683018]\n",
      "Iteration 43: [1.63367907 1.1003635  0.79007253 1.04683018]\n",
      "Iteration 44: [1.63367907 1.1003635  0.79007253 1.04683018]\n",
      "Iteration 45: [1.63367907 1.1003635  0.79007253 1.04683018]\n",
      "Iteration 46: [1.63367907 1.1003635  0.79007253 1.04683018]\n",
      "Iteration 47: [1.63367907 1.1003635  0.79007253 1.04683018]\n",
      "Iteration 48: [1.63367907 1.1003635  0.79007253 1.04683018]\n",
      "Iteration 49: [1.63367907 1.1003635  0.79007253 1.04683018]\n",
      "Iteration 50: [1.63367907 1.1003635  0.79007253 1.04683018]\n",
      "Iteration 51: [1.63367907 1.1003635  0.79007253 1.04683018]\n",
      "Iteration 52: [1.63367907 1.1003635  0.79007253 1.04683018]\n",
      "Iteration 53: [1.63367907 1.1003635  0.79007253 1.04683018]\n",
      "Iteration 54: [1.63367907 1.1003635  0.79007253 1.04683018]\n",
      "Iteration 55: [1.63367907 1.1003635  0.79007253 1.04683018]\n",
      "Iteration 56: [1.63367907 1.1003635  0.79007253 1.04683018]\n",
      "Iteration 57: [1.63367907 1.1003635  0.79007253 1.04683018]\n",
      "Iteration 58: [1.63367907 1.1003635  0.79007253 1.04683018]\n",
      "Iteration 59: [1.63367907 1.1003635  0.79007253 1.04683018]\n",
      "Iteration 60: [1.63367907 1.1003635  0.79007253 1.04683018]\n",
      "Iteration 61: [1.63367907 1.1003635  0.79007253 1.04683018]\n",
      "Iteration 62: [1.63367907 1.1003635  0.79007253 1.04683018]\n",
      "Iteration 63: [1.63367907 1.1003635  0.79007253 1.04683018]\n",
      "Iteration 64: [1.63367907 1.1003635  0.79007253 1.04683018]\n",
      "Iteration 65: [1.57067907 1.0673635  0.73007253 1.02183018]\n",
      "Iteration 66: [1.49967907 1.0373635  0.67107253 1.00083018]\n",
      "Iteration 67: [1.43467907 1.0073635  0.61307253 0.97883018]\n",
      "Iteration 68: [1.35867907 0.9773635  0.54707253 0.95783018]\n",
      "Iteration 69: [1.30967907 0.9523635  0.50207253 0.94083018]\n",
      "Iteration 70: [1.23667907 0.9233635  0.43907253 0.92283018]\n",
      "Iteration 71: [1.16967907 0.8983635  0.38107253 0.90483018]\n",
      "Iteration 72: [1.09767907 0.8623635  0.32007253 0.87983018]\n",
      "Iteration 73: [1.03267907 0.8303635  0.26907253 0.85983018]\n",
      "Iteration 74: [0.97467907 0.8023635  0.21807253 0.83583018]\n",
      "Iteration 75: [0.91067907 0.7703635  0.16507253 0.81283018]\n",
      "Iteration 76: [0.84567907 0.7403635  0.11007253 0.79483018]\n",
      "Iteration 77: [0.76867907 0.7023635  0.04307253 0.77283018]\n",
      "Iteration 78: [ 0.69167907  0.6763635  -0.02592747  0.74983018]\n",
      "Iteration 79: [ 0.63167907  0.6543635  -0.07592747  0.73483018]\n",
      "Iteration 80: [ 0.57567907  0.6263635  -0.12492747  0.71483018]\n",
      "Iteration 81: [ 0.49867907  0.5983635  -0.19192747  0.69483018]\n",
      "Iteration 82: [ 0.43567907  0.5713635  -0.24092747  0.67683018]\n",
      "Iteration 83: [ 0.36867907  0.5383635  -0.29792747  0.65583018]\n",
      "Iteration 84: [ 0.30667907  0.5103635  -0.34592747  0.63783018]\n",
      "Iteration 85: [ 0.24267907  0.4823635  -0.40192747  0.61683018]\n",
      "Iteration 86: [ 0.17067907  0.4523635  -0.45992747  0.60083018]\n",
      "Iteration 87: [ 0.02267907  0.3963635  -0.58192747  0.56283018]\n",
      "Iteration 88: [-0.21432093  0.2823635  -0.77392747  0.50283018]\n",
      "Iteration 89: [-0.40332093  0.1983635  -0.92692747  0.45783018]\n",
      "Iteration 90: [-0.58632093  0.1203635  -1.09492747  0.41583018]\n",
      "Iteration 91: [-0.81732093  0.0303635  -1.27792747  0.34683018]\n",
      "Iteration 92: [-1.00632093 -0.0716365  -1.44592747  0.27483018]\n",
      "Iteration 93: [-1.19832093 -0.1646365  -1.61092747  0.22083018]\n",
      "Iteration 94: [-1.37832093 -0.2546365  -1.75492747  0.16683018]\n",
      "Iteration 95: [-1.58532093 -0.3476365  -1.91692747  0.10383018]\n",
      "Iteration 96: [-1.78632093 -0.4406365  -2.08492747  0.03183018]\n",
      "Iteration 97: [-1.99032093 -0.5366365  -2.26192747 -0.03716982]\n",
      "Iteration 98: [-2.19132093 -0.6356365  -2.43292747 -0.11216982]\n",
      "Iteration 99: [-2.36832093 -0.7256365  -2.58592747 -0.16616982]\n",
      "Difference: [-2.405 -0.737 -2.913 -1.137]\n"
     ]
    }
   ],
   "source": [
    "# Learning rate\n",
    "alpha = 0.01\n",
    "\n",
    "# Train\n",
    "weights = perceptron_train(d_train_X, d_train_y, alpha)"
   ]
  },
  {
   "cell_type": "code",
   "execution_count": 13,
   "metadata": {
    "id": "ZfLZgtQNHAPH"
   },
   "outputs": [],
   "source": [
    "# Test\n",
    "result_test=perceptron_test(d_test_X,d_test_y.shape,weights)"
   ]
  },
  {
   "cell_type": "code",
   "execution_count": 14,
   "metadata": {
    "colab": {
     "base_uri": "https://localhost:8080/"
    },
    "id": "1fMYZgYwHAPI",
    "outputId": "30cd2825-bf64-409a-fcde-4540ccb8362c"
   },
   "outputs": [
    {
     "name": "stdout",
     "output_type": "stream",
     "text": [
      "Score=28.0\n"
     ]
    }
   ],
   "source": [
    "# Calculate score\n",
    "score(result_test,d_test_y)"
   ]
  },
  {
   "cell_type": "code",
   "execution_count": null,
   "metadata": {
    "id": "Qhc67DOdHAPI"
   },
   "outputs": [],
   "source": []
  }
 ],
 "metadata": {
  "colab": {
   "name": "single_layer_perceptrons.ipynb",
   "provenance": []
  },
  "kernelspec": {
   "display_name": "Python 3",
   "language": "python",
   "name": "python3"
  },
  "language_info": {
   "codemirror_mode": {
    "name": "ipython",
    "version": 3
   },
   "file_extension": ".py",
   "mimetype": "text/x-python",
   "name": "python",
   "nbconvert_exporter": "python",
   "pygments_lexer": "ipython3",
   "version": "3.8.2"
  }
 },
 "nbformat": 4,
 "nbformat_minor": 1
}
